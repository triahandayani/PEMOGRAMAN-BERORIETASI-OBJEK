{
  "nbformat": 4,
  "nbformat_minor": 0,
  "metadata": {
    "colab": {
      "name": "3_2_Tugas_Perulangan.Tri Ria Handayani_11200484.ipynb",
      "provenance": [],
      "collapsed_sections": []
    },
    "kernelspec": {
      "name": "python3",
      "display_name": "Python 3"
    }
  },
  "cells": [
    {
      "cell_type": "code",
      "metadata": {
        "id": "fkV8YRAQlm-C"
      },
      "source": [
        ""
      ],
      "execution_count": null,
      "outputs": []
    },
    {
      "cell_type": "markdown",
      "metadata": {
        "id": "lnkJ-zBHl3jp"
      },
      "source": [
        "## Access Element\n",
        "Keunikan lain dari looping dengan python adalah selain bahasa yang mudah dimengerti dalam looping, kita juga bisa mengakses elemen yang terdapat pada sebuah list. Berikut ini contohnya :\n",
        "``` javascript\n",
        "#Tugas 3.2.1\n",
        "count=[1,2,3,4,5] #elemen list\n",
        "\n",
        "for number in count: #looping untuk menampilkan semua elemen pada count\n",
        "    print(\"Ini adalah element count : \", number) #menampilkan elemen list pada count\n",
        "```\n",
        "Implekementasikan kode diatas, ketikan pada code cell di bawah ini, berikan penjelasan terkait kode diatas"
      ]
    },
    {
      "cell_type": "code",
      "metadata": {
        "id": "xYjQqqNLm-dB"
      },
      "source": [
        "# Jawaban Tugas 3.2.1"
      ],
      "execution_count": null,
      "outputs": []
    },
    {
      "cell_type": "markdown",
      "metadata": {
        "id": "figDWKAcnZRA"
      },
      "source": [
        "## Tugas Praktek 3.2.2\n",
        "1. Buatlah sebuah program yang bisa mengeluarkan angka 1 sampai 10.\n",
        "1. Buatlah sebuah program yang bisa mengeluarkan angka -20 sampai -50.\n",
        "3. Tampilan akan menunjukan \"Angka ganjil 1\" untuk angka ganjil dan \"Angka genap 2\" untuk angka genap. (Menggunakan looping for)\n",
        "\n",
        "**Note:** Kode dasar sudah disertakan, Anda cukup mengganti tanda # dengan nilai-nilai yang sesuai."
      ]
    },
    {
      "cell_type": "code",
      "metadata": {
        "id": "MElhruOTntzZ",
        "colab": {
          "base_uri": "https://localhost:8080/"
        },
        "outputId": "c03c358d-9265-4e98-b235-32e33d8d611f"
      },
      "source": [
        "#Jawaban Tugas 3.2.1.1\n",
        "count=[1,2,3,4,5,7,8,9,10]\n",
        "\n",
        "for number in count: \n",
        "     print(\"Ini adalah Angka: \", number)"
      ],
      "execution_count": null,
      "outputs": [
        {
          "output_type": "stream",
          "name": "stdout",
          "text": [
            "Ini adalah Angka:  1\n",
            "Ini adalah Angka:  2\n",
            "Ini adalah Angka:  3\n",
            "Ini adalah Angka:  4\n",
            "Ini adalah Angka:  5\n",
            "Ini adalah Angka:  7\n",
            "Ini adalah Angka:  8\n",
            "Ini adalah Angka:  9\n",
            "Ini adalah Angka:  10\n"
          ]
        }
      ]
    },
    {
      "cell_type": "code",
      "metadata": {
        "id": "NFtMjrQznuF2",
        "colab": {
          "base_uri": "https://localhost:8080/"
        },
        "outputId": "c091febe-51fc-4eab-83ac-f92075b889de"
      },
      "source": [
        "#Jawaban Tugas 3.2.1.2\n",
        "count=[-20,-21,-23,-24,-25,-26,-27,-28,-29,-30,-31,-32,-34,-35,-36,-37,-38,-39,-40,-41,-42,-43,-45,-46,-47,-48,-49,-50]\n",
        "\n",
        "for number in count: \n",
        "     print(\"Ini adalah Angka: \", number)"
      ],
      "execution_count": null,
      "outputs": [
        {
          "output_type": "stream",
          "name": "stdout",
          "text": [
            "Ini adalah Angka:  -20\n",
            "Ini adalah Angka:  -21\n",
            "Ini adalah Angka:  -23\n",
            "Ini adalah Angka:  -24\n",
            "Ini adalah Angka:  -25\n",
            "Ini adalah Angka:  -26\n",
            "Ini adalah Angka:  -27\n",
            "Ini adalah Angka:  -28\n",
            "Ini adalah Angka:  -29\n",
            "Ini adalah Angka:  -30\n",
            "Ini adalah Angka:  -31\n",
            "Ini adalah Angka:  -32\n",
            "Ini adalah Angka:  -34\n",
            "Ini adalah Angka:  -35\n",
            "Ini adalah Angka:  -36\n",
            "Ini adalah Angka:  -37\n",
            "Ini adalah Angka:  -38\n",
            "Ini adalah Angka:  -39\n",
            "Ini adalah Angka:  -40\n",
            "Ini adalah Angka:  -41\n",
            "Ini adalah Angka:  -42\n",
            "Ini adalah Angka:  -43\n",
            "Ini adalah Angka:  -45\n",
            "Ini adalah Angka:  -46\n",
            "Ini adalah Angka:  -47\n",
            "Ini adalah Angka:  -48\n",
            "Ini adalah Angka:  -49\n",
            "Ini adalah Angka:  -50\n"
          ]
        }
      ]
    },
    {
      "cell_type": "code",
      "metadata": {
        "id": "xpGigMPBpBy7",
        "colab": {
          "base_uri": "https://localhost:8080/"
        },
        "outputId": "4ab21101-d2ba-43f7-fbb1-75b50ba39ab2"
      },
      "source": [
        "#Jawaban Tugas 3.2.1.3\n",
        "for i in range (1,11):\n",
        "   if (i%2==0):\n",
        "        print (\"angka Genap\",i)\n",
        "   else:\n",
        "        print(\"angka Ganjil\",i)"
      ],
      "execution_count": null,
      "outputs": [
        {
          "output_type": "stream",
          "name": "stdout",
          "text": [
            "angka Ganjil 1\n",
            "angka Genap 2\n",
            "angka Ganjil 3\n",
            "angka Genap 4\n",
            "angka Ganjil 5\n",
            "angka Genap 6\n",
            "angka Ganjil 7\n",
            "angka Genap 8\n",
            "angka Ganjil 9\n",
            "angka Genap 10\n"
          ]
        }
      ]
    }
  ]
}