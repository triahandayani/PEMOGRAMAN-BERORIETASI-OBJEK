{
  "nbformat": 4,
  "nbformat_minor": 0,
  "metadata": {
    "colab": {
      "name": "5_1_Tugas_Materi_Fungsi.ipynb",
      "provenance": [],
      "collapsed_sections": []
    },
    "kernelspec": {
      "name": "python3",
      "display_name": "Python 3"
    }
  },
  "cells": [
    {
      "cell_type": "code",
      "metadata": {
        "id": "22s8pI85u5_J"
      },
      "source": [
        ""
      ],
      "execution_count": null,
      "outputs": []
    },
    {
      "cell_type": "markdown",
      "metadata": {
        "id": "fPMZcyuxvINI"
      },
      "source": [
        "**Soal 5.1.1**\n",
        "\n",
        "Berikut ini adalah potongan kode implementasi fungsi *luas_limas_segi_empat()*\n",
        "``` javascript\n",
        "print(\"Luas : %d\" % luas_limas_segi_empat(Alas_limas, Tinggi_limas))​\n",
        "```\n",
        "Lengkapilah kode tersebut dengan merancang sebuah fungsi agar bisa diimplementasikan sesuai dengan statment potongan kode diatas.\n",
        "dengan mengetikan pada code cell di bawah ini pada editor."
      ]
    },
    {
      "cell_type": "code",
      "metadata": {
        "id": "WMeeaGjuxQfL"
      },
      "source": [
        "# Soal 4.1.1\n",
        "#Bangun Ruang Limas\n",
        "#Volume = 1/3 luas alas tinggi sisi\n",
        "#Luas = luas alas + jumlah luas sisi tegak\n",
        "\n",
        "def volume():\n",
        "    luas_alas = float(input(\"Masukkan Luas Alas: \"))\n",
        "    tinggi = float(input(\"Masukkan Tinggi Limas: \"))\n",
        "    sisi = float(input(\"Masukkan Sisi Limas: \"))\n",
        "\n",
        "    volume = 1/3 * luas_alas * tinggi * sisi\n",
        "\n",
        "    print (\"Volume Limas adalah %d\" %volume)\n",
        "\n",
        "def luas():\n",
        "    luas_alas = float(input(\"Masukkan Luas Alas: \"))\n",
        "    jumlah_sisi_tegak = float(input(\"Masukkan Jumlah Sisi Tegak: \"))\n",
        "\n",
        "    luas = luas_alas + jumlah_sisi_tegak\n",
        "\n",
        "    print(\"Luas Limas adalah %d\" %luas)\n",
        "\n",
        "def menu():\n",
        "    print(\"Masukkan Nomor dibawah untuk menggunakan aplikasi\")\n",
        "    print(\"1. Volume Limas\")\n",
        "    print(\"2. Luas Limas\")\n",
        "    masukan = int(input(\"Masukka No: \"))\n",
        "    return masukan"
      ],
      "execution_count": 6,
      "outputs": []
    }
  ]
}