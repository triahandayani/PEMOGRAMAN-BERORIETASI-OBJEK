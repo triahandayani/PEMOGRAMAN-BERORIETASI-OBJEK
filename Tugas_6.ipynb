{
  "nbformat": 4,
  "nbformat_minor": 0,
  "metadata": {
    "colab": {
      "name": "Tugas 6.ipynb",
      "provenance": [],
      "collapsed_sections": []
    },
    "kernelspec": {
      "name": "python3",
      "display_name": "Python 3"
    },
    "language_info": {
      "name": "python"
    }
  },
  "cells": [
    {
      "cell_type": "code",
      "execution_count": 28,
      "metadata": {
        "id": "07R8gOuZcTeU"
      },
      "outputs": [],
      "source": [
        "#jawab\n",
        "\n",
        "#Bangun Ruang Limas\n",
        "#Volume = 1/3 luas alas tinggi sisi\n",
        "#Luas = luas alas + jumlah luas sisi tegak\n",
        "\n",
        "def volume():\n",
        "    luas_alas = float(input(\"Masukkan Luas Alas: \"))\n",
        "    tinggi = float(input(\"Masukkan Tinggi Limas: \"))\n",
        "    sisi = float(input(\"Masukkan Sisi Limas: \"))\n",
        "\n",
        "    volume = 1/3 * luas_alas * tinggi * sisi\n",
        "\n",
        "    print (\"Volume Limas adalah %d\" %volume)\n",
        "\n",
        "def luas():\n",
        "    luas_alas = float(input(\"Masukkan Luas Alas: \"))\n",
        "    jumlah_sisi_tegak = float(input(\"Masukkan Jumlah Sisi Tegak: \"))\n",
        "\n",
        "    luas = luas_alas + jumlah_sisi_tegak\n",
        "\n",
        "    print(\"Luas Limas adalah %d\" %luas)\n",
        "\n",
        "def menu():\n",
        "    print(\"Masukkan Nomor dibawah untuk menggunakan aplikasi\")\n",
        "    print(\"1. Volume Limas\")\n",
        "    print(\"2. Luas Limas\")\n",
        "    masukan = int(input(\"Masukkan No: \"))\n",
        "    return masukan"
      ]
    }
  ]
}