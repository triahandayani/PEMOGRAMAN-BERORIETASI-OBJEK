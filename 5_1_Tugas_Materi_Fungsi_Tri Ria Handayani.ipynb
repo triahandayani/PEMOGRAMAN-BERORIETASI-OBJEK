#Bangun Ruang Limas
#Volume = 1/3 luas alas tinggi sisi
#Luas = luas alas + jumlah luas sisi tegak

def volume():
    luas_alas = float(input("Masukkan Luas Alas: "))
    tinggi = float(input("Masukkan Tinggi Limas: "))
    sisi = float(input("Masukkan Sisi Limas: "))

    volume = 1/3 * luas_alas * tinggi * sisi

    print ("Volume Limas adalah %d" %volume)

def luas():
    luas_alas = float(input("Masukkan Luas Alas: "))
    jumlah_sisi_tegak = float(input("Masukkan Jumlah Sisi Tegak: "))

    luas = luas_alas + jumlah_sisi_tegak

    print("Luas Limas adalah %d" %luas)

def menu():
    print("Masukkan Nomor dibawah untuk menggunakan aplikasi")
    print("1. Volume Limas")
    print("2. Luas Limas")
    masukan = int(input("Masukka No: "))
    return masukan
