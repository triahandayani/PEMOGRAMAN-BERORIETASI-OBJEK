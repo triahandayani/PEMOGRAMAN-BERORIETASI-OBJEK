{
  "nbformat": 4,
  "nbformat_minor": 0,
  "metadata": {
    "colab": {
      "name": "5.1_Tugas_Materi_Fungsi.ipynb",
      "provenance": [],
      "collapsed_sections": []
    },
    "kernelspec": {
      "name": "python3",
      "display_name": "Python 3"
    }
  },
  "cells": [
    {
      "cell_type": "code",
      "metadata": {
        "id": "22s8pI85u5_J"
      },
      "source": [
        ""
      ],
      "execution_count": null,
      "outputs": []
    },
    {
      "cell_type": "markdown",
      "metadata": {
        "id": "fPMZcyuxvINI"
      },
      "source": [
        "**Soal 5.1.1**\n",
        "\n",
        "Berikut ini adalah potongan kode implementasi fungsi *luas_limas_segi_empat()*\n",
        "``` javascript\n",
        "print(\"Luas : %d\" % luas_limas_segi_empat(Alas_limas, Tinggi_limas))​\n",
        "```\n",
        "Lengkapilah kode tersebut dengan merancang sebuah fungsi agar bisa diimplementasikan sesuai dengan statment potongan kode diatas.\n",
        "dengan mengetikan pada code cell di bawah ini pada editor."
      ]
    },
    {
      "cell_type": "code",
      "metadata": {
        "id": "WMeeaGjuxQfL"
      },
      "source": [
        "# Soal 4.1.1"
      ],
      "execution_count": null,
      "outputs": []
    }
  ]
}