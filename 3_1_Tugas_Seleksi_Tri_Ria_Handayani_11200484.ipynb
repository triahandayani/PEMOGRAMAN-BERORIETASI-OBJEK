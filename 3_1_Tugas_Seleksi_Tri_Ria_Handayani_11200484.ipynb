{
  "nbformat": 4,
  "nbformat_minor": 0,
  "metadata": {
    "colab": {
      "name": "3_1_Tugas_Seleksi.Tri Ria Handayani_11200484.ipynb",
      "provenance": [],
      "collapsed_sections": []
    },
    "kernelspec": {
      "name": "python3",
      "display_name": "Python 3"
    }
  },
  "cells": [
    {
      "cell_type": "code",
      "metadata": {
        "id": "r3Zdz7GxjwEB"
      },
      "source": [
        ""
      ],
      "execution_count": null,
      "outputs": []
    },
    {
      "cell_type": "markdown",
      "metadata": {
        "id": "Sh1Z3vgEka_O"
      },
      "source": [
        "##3.1. Tugas:\n",
        "Berikut ini adalah psudo code  untuk melakukan pengecekan bertingkat\n",
        "``` javascript\n",
        "i <= 2\n",
        "IF i < 7 THEN\n",
        "\tCETAK \"Nilai i kurang dari 7\"\n",
        "\tIF i < 3 THEN\n",
        "\t   CETAK \"Nilai i kurang dari 7 dan kurang dari 3\"\n",
        "\tELSE\n",
        "\t\tCETAK \"Nilai i kurang dari 7 tapi kurang dari 3\"\n",
        "\n",
        "```\n",
        "Implekementasikan kode diatas dalam kode python. Ketikan code cell di bawah ini pada editor:"
      ]
    },
    {
      "cell_type": "code",
      "metadata": {
        "id": "OV-NfRKHk0Vy",
        "colab": {
          "base_uri": "https://localhost:8080/"
        },
        "outputId": "68f9a050-3e3b-4b55-8507-d7b12b2d124c"
      },
      "source": [
        "##Jawaban Tugas 3.1\n",
        "i=2\n",
        "if (i<7):\n",
        "    print (\"Nilai i kurang dari 7\")\n",
        "    if (i<3):\n",
        "       print (\"Nilai i kurang dari 7 dan kurang dari 3\")\n",
        "    else:\n",
        "        print (\"Nilai i kurang dari 7 tapi kurang dari 3\")\n",
        "\n",
        "\n"
      ],
      "execution_count": null,
      "outputs": [
        {
          "output_type": "stream",
          "name": "stdout",
          "text": [
            "Nilai i kurang dari 7\n",
            "Nilai i kurang dari 7 dan kurang dari 3\n"
          ]
        }
      ]
    }
  ]
}