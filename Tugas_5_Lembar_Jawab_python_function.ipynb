{
  "cells": [
    {
      "cell_type": "markdown",
      "metadata": {
        "id": "dGIpQt4RTjGu"
      },
      "source": [
        "## NIM  :11200484\n",
        "## NAMA : TRI RIA HANDAYANI\n",
        "## JURUSAN : SISTEM INFORMASI\n"
      ]
    },
    {
      "cell_type": "markdown",
      "source": [
        "# Tugas - Fungsi\n",
        "## Tujuan & Manfaat\n",
        "Pada praktikum 10 - Fungsi, mahasiswa diharapkan:\n",
        "   1. Mahasiswa mengerti syntax operator pada python\n",
        "   2. Mahasiswa dapat menjalankan program python menggunakan IDE\n",
        "   3. Mahasiswa mengerti konsep dari Fungsi pada python\n",
        "   4. Mahasiswa dapat menerapkan dalam program"
      ],
      "metadata": {
        "id": "2NTI-ytzglfY"
      }
    },
    {
      "cell_type": "markdown",
      "metadata": {
        "id": "CJ4AgF8rTjHt"
      },
      "source": [
        "Fungsi adalah blok kode terorganisir dan dapat digunakan kembali yang digunakan untuk melakukan sebuah tindakan/action. Fungsi memberikan modularitas yang lebih baik untuk aplikasi Anda dan tingkat penggunaan kode yang tinggi.\n",
        "\n",
        "### Mendefinisikan Fungsi Python\n",
        "\n",
        "Anda dapat menentukan fungsi untuk menyediakan fungsionalitas yang dibutuhkan. Berikut adalah aturan sederhana untuk mendefinisikan fungsi dengan Python.\n",
        "\n",
        "- Fungsi blok dimulai dengan def kata kunci diikuti oleh nama fungsi dan tanda kurung (()).\n",
        "- Setiap parameter masukan atau argumen harus ditempatkan di dalam tanda kurung ini. Anda juga dapat menentukan parameter di dalam tanda kurung ini.\n",
        "- Pernyataan pertama dari sebuah fungsi dapat berupa pernyataan opsional - string dokumentasi fungsi atau docstring.\n",
        "- Blok kode dalam setiap fungsi dimulai dengan titik dua (:) dan indentasi.\n",
        "- Pernyataan kembali [ekspresi] keluar dari sebuah fungsi, secara opsional menyampaikan kembali ekspresi ke pemanggil. Pernyataan pengembalian tanpa argumen sama dengan return None.\n",
        "\n",
        "## JAWABAN TUGAS :"
      ]
    },
    {
      "cell_type": "code",
      "source": [
        "#JAWAB\n",
        "def printme(str):\n",
        "   \"This prints a passed string into this function\"\n",
        "   print (str)\n",
        "   return\n",
        "printme(\"hello world\")\n",
        "\n",
        "def jumlah(angka):\n",
        "    total = 0\n",
        "    for x in angka:\n",
        "        total += x\n",
        "    return total\n",
        "\n",
        "print(\"jumlah: \",jumlah((8,3,1,4,5)))\n",
        "\n",
        "def cek_ganjil_genap(angka):\n",
        "    if angka%2==0:\n",
        "        print(\"genap\")\n",
        "    else:\n",
        "        print(\"ganjil\")\n",
        "    return\n",
        "\n",
        "cek_ganjil_genap(5) #input angka, misalkan 5\n",
        "\n",
        "def rata_rata(a,b,c):\n",
        "    return (a+b+c)/3\n",
        "rata_rata(1,2,3)\n",
        "\n",
        "def kalkulator(angka1,angka2):\n",
        "    print(angka1+angka2)\n",
        "    print(angka1-angka2)\n",
        "    print(angka1*angka2)\n",
        "    print(angka1/angka2)    \n",
        "    \n",
        "kalkulator(1,2) #inputan 2 angka, angka1:1, dan angka2:2"
      ],
      "metadata": {
        "id": "V0Drjsb_h1KF",
        "outputId": "6f9f1f3a-dcbb-405b-f477-6dfecbb0f9d1",
        "colab": {
          "base_uri": "https://localhost:8080/"
        }
      },
      "execution_count": null,
      "outputs": [
        {
          "output_type": "stream",
          "name": "stdout",
          "text": [
            "hello world\n",
            "jumlah:  21\n",
            "ganjil\n",
            "3\n",
            "-1\n",
            "2\n",
            "0.5\n"
          ]
        }
      ]
    }
  ],
  "metadata": {
    "kernelspec": {
      "display_name": "Python 3",
      "language": "python",
      "name": "python3"
    },
    "language_info": {
      "codemirror_mode": {
        "name": "ipython",
        "version": 3
      },
      "file_extension": ".py",
      "mimetype": "text/x-python",
      "name": "python",
      "nbconvert_exporter": "python",
      "pygments_lexer": "ipython3",
      "version": "3.7.7"
    },
    "colab": {
      "name": "Tugas 5_Lembar_Jawab_python_function.ipynb",
      "provenance": [],
      "collapsed_sections": []
    }
  },
  "nbformat": 4,
  "nbformat_minor": 0
}